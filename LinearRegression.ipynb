{
 "cells": [
  {
   "cell_type": "code",
   "execution_count": 1,
   "metadata": {},
   "outputs": [],
   "source": [
    "import pandas as pd\n",
    "import numpy as np\n",
    "from numpy.random import randint\n",
    "\n",
    "class LReg:\n",
    "    def __init__(self):\n",
    "        \"\"\"Class initialization\"\"\"\n",
    "        self._df_usa_house = pd.DataFrame()\n",
    "        self._x_num_cols = []\n",
    "        self._y_num_cols = []\n",
    "       \n",
    "    def load_data(self, path_to_file, y_col = \"Price\"):\n",
    "        \"\"\"Load data in to DF\"\"\"\n",
    "        self._df_usa_house = pd.read_csv(path_to_file)\n",
    "        self._df_usa_house = self._df_usa_house.select_dtypes(include=np.number)\n",
    "        \n",
    "        self._x_num_cols = [colname for colname in self._df_usa_house.columns if not colname == y_col ]  \n",
    "        self._y_num_cols.append(y_col)\n",
    "    \n",
    "    def split_data(self, ratio=\"8:2\"):\n",
    "        \"\"\"\n",
    "        Random split of data.\n",
    "        \"\"\"\n",
    "        parts = ratio.split(\":\")\n",
    "        train_part = int(((self._df_usa_house.shape[0] * int(parts[0]))/10.00))\n",
    "        \n",
    "        idxes = np.arange(self._df_usa_house.shape[0])\n",
    "        np.random.shuffle(idxes)\n",
    "        \n",
    "        self._train_data = self._df_usa_house.iloc[idxes[:train_part]]\n",
    "        self._test_data = self._df_usa_house.iloc[idxes[train_part:]]\n",
    "        \n",
    "        X_train = self._train_data[self._x_num_cols].to_numpy() \n",
    "        y_train = self._train_data[self._y_num_cols].to_numpy()\n",
    "        \n",
    "        X_test = self._test_data[self._x_num_cols].to_numpy()\n",
    "        y_test = self._test_data[self._y_num_cols].to_numpy()\n",
    "        \n",
    "        assert X_train.shape[0] == y_train.shape[0]\n",
    "        assert X_test.shape[0] == y_test.shape[0]\n",
    "        \n",
    "        print(\"Train: %d\" %X_train.shape[0])\n",
    "        print(\"Test: %d\" %X_test.shape[0])\n",
    "        \n",
    "        return X_train, X_test, y_train, y_test\n",
    "    \n",
    "    def fit(self, X_train, y_train):\n",
    "        \"\"\"Ordinary Least Square for minimization of sum of squared error\"\"\"\n",
    "        self._weight = np.linalg.inv(X_train.T.dot(X_train)).dot(X_train.T).dot(y_train)\n",
    "        \n",
    "\n",
    "    def predict(self, X_test, y_test):\n",
    "        \"\"\"Predict using the weight\"\"\"\n",
    "        rmse = np.sqrt(np.mean((np.dot(X_test, self._weight) - y_test)**2))\n",
    "        mae = np.mean(np.abs(np.dot(X_test, self._weight) - y_test))\n",
    "        print(\"RMSE: \", rmse)\n",
    "        print(\"MAE: \", mae)"
   ]
  },
  {
   "cell_type": "code",
   "execution_count": 2,
   "metadata": {},
   "outputs": [
    {
     "name": "stdout",
     "output_type": "stream",
     "text": [
      "Train: 4000\n",
      "Test: 1000\n",
      "RMSE:  244707.12817922133\n",
      "MAE:  195365.34641944533\n"
     ]
    }
   ],
   "source": [
    "LR = LReg() \n",
    "# data can be downloaded from here \n",
    "# https://www.kaggle.com/aariyan101/usa-housingcsv\n",
    "# ! wget https://www.kaggle.com/aariyan101/usa-housingcsv /tmp/\n",
    "LR.load_data(\"/tmp/USA_Housing.csv\")\n",
    "X_train, X_test, y_train, y_test = LR.split_data()\n",
    "LR.fit(X_train, y_train)\n",
    "LR.predict(X_test, y_test)"
   ]
  }
 ],
 "metadata": {
  "kernelspec": {
   "display_name": "Python 3",
   "language": "python",
   "name": "python3"
  },
  "language_info": {
   "codemirror_mode": {
    "name": "ipython",
    "version": 3
   },
   "file_extension": ".py",
   "mimetype": "text/x-python",
   "name": "python",
   "nbconvert_exporter": "python",
   "pygments_lexer": "ipython3",
   "version": "3.7.5"
  }
 },
 "nbformat": 4,
 "nbformat_minor": 2
}
