{
 "cells": [
  {
   "cell_type": "markdown",
   "metadata": {},
   "source": [
    "# KNN implementation using numpy"
   ]
  },
  {
   "cell_type": "code",
   "execution_count": 1,
   "metadata": {},
   "outputs": [],
   "source": [
    "import numpy as np\n",
    "import pandas as pd\n",
    "from numpy.random import randint\n",
    "from collections import Counter"
   ]
  },
  {
   "cell_type": "code",
   "execution_count": 2,
   "metadata": {},
   "outputs": [],
   "source": [
    "class KNN:\n",
    "\n",
    "    def __init__(self):\n",
    "        # https://archive.ics.uci.edu/ml/datasets/Iris\n",
    "        self._columns = [\"sepallength\",  \"sepalwidth\", \"petallength\", \"petalwidth\", \"target\"]\n",
    "        self._valid_class = [\"Iris-setosa\", \"Iris-versicolor\", \"Iris-virginica\"]\n",
    "\n",
    "    def load_data(self):\n",
    "        \"\"\"load a data from given file \"\"\"\n",
    "        dtypes = {\"sepallength\":np.float64,  \n",
    "                  \"sepalwidth\":np.float64, \n",
    "                  \"petallength\":np.float64, \n",
    "                  \"petalwidth\":np.float64, \n",
    "                  \"target\":np.str}\n",
    "        path_to_file = \"./data/iris.data\"\n",
    "        self._df_data = pd.read_csv(path_to_file, header = None, dtype= dtypes, names=self._columns)\n",
    "        print(self._df_data.info())\n",
    "        \n",
    "        \n",
    "    def split_data(self, train=0.8, test=0.2, X_col = [], y_col = []):\n",
    "        \"\"\" Split a data into training and testing set\"\"\"\n",
    "        total_data = self._df_data.shape[0]\n",
    "        train_part = int(total_data * train)\n",
    "        test_part  = int(total_data * test)\n",
    "        print(\"Splitted %d train and %d test\" %(train_part, test_part))\n",
    "\n",
    "        idxes = np.arange(total_data)\n",
    "        np.random.shuffle(idxes)\n",
    "       \n",
    "        train_idxes = idxes[:train_part]\n",
    "        test_idxes  = idxes[train_part:train_part+test_part]\n",
    "        \n",
    "        train_data = self._df_data.iloc[train_idxes] \n",
    "        test_data  = self._df_data.iloc[test_idxes] \n",
    "        \n",
    "        # convert text category into number\n",
    "        temp_cols = train_data[y_col].to_numpy()\n",
    "        y_train   = np.array([self._valid_class.index(tc[0]) for tc in temp_cols])\n",
    "        temp_cols = test_data[y_col].to_numpy()\n",
    "        y_test    = np.array([self._valid_class.index(tc[0]) for tc in temp_cols])\n",
    "        return train_data[X_col].to_numpy(), y_train, test_data[X_col].to_numpy(), y_test\n",
    "    \n",
    "    def compute_dist(self, X_train, x_test):\n",
    "        \"\"\"compute a distance between one point with vector of points\"\"\"\n",
    "        return np.sqrt(np.sum((x_test - X_train) ** 2, axis=1))\n",
    "   \n",
    "    def fit(self, X_train, y_train, X_test, y_test, k=5):\n",
    "        \"\"\"get the closest point and its corresponding label\"\"\"\n",
    "        \n",
    "        y_preds = []\n",
    "        for x_test_row in X_test:\n",
    "            dist        = self.compute_dist(X_train, x_test_row)\n",
    "            dist_widxes = [(i, d) for i, d in enumerate(dist)]\n",
    "            \n",
    "            dist_widxes.sort(key= lambda x: x[1])\n",
    "            selected_idx = [x[0] for x in dist_widxes[:k]]\n",
    "            y_pred = Counter(y_train[selected_idx]).most_common()[0]\n",
    "            y_preds.append(y_pred[0])\n",
    "        return y_preds\n",
    "    \n",
    "    def score(self, y_test, y_preds):\n",
    "        \"\"\"calculate a prediction result\"\"\"\n",
    "        count_correct = 0\n",
    "        for actual, predicted in zip(y_test, y_preds):\n",
    "            if actual == predicted: count_correct += 1\n",
    "        return count_correct / len(y_test)"
   ]
  },
  {
   "cell_type": "code",
   "execution_count": 3,
   "metadata": {},
   "outputs": [
    {
     "name": "stdout",
     "output_type": "stream",
     "text": [
      "<class 'pandas.core.frame.DataFrame'>\n",
      "RangeIndex: 150 entries, 0 to 149\n",
      "Data columns (total 5 columns):\n",
      "sepallength    150 non-null float64\n",
      "sepalwidth     150 non-null float64\n",
      "petallength    150 non-null float64\n",
      "petalwidth     150 non-null float64\n",
      "target         150 non-null object\n",
      "dtypes: float64(4), object(1)\n",
      "memory usage: 6.0+ KB\n",
      "None\n",
      "Splitted 120 train and 30 test\n",
      "Accuracy: 0.97 \n"
     ]
    }
   ],
   "source": [
    "oj_knn = KNN()\n",
    "oj_knn.load_data()\n",
    "\n",
    "data_columns  = [\"sepallength\",  \"sepalwidth\", \"petallength\", \"petalwidth\"]\n",
    "target_column = [\"target\"]\n",
    "X_train, y_train, X_test, y_test = oj_knn.split_data(X_col=data_columns, y_col = target_column)\n",
    "y_pred = oj_knn.fit(X_train, y_train, X_test, y_test)\n",
    "result = oj_knn.score(y_test, y_pred)\n",
    "print(\"Accuracy: %0.2f \" %result)"
   ]
  },
  {
   "cell_type": "code",
   "execution_count": null,
   "metadata": {},
   "outputs": [],
   "source": []
  }
 ],
 "metadata": {
  "kernelspec": {
   "display_name": "Python 3",
   "language": "python",
   "name": "python3"
  },
  "language_info": {
   "codemirror_mode": {
    "name": "ipython",
    "version": 3
   },
   "file_extension": ".py",
   "mimetype": "text/x-python",
   "name": "python",
   "nbconvert_exporter": "python",
   "pygments_lexer": "ipython3",
   "version": "3.7.5"
  }
 },
 "nbformat": 4,
 "nbformat_minor": 2
}
